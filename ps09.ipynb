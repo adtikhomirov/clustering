{
 "cells": [
  {
   "cell_type": "markdown",
   "metadata": {},
   "source": [
    "# Статистика и открытые данные\n",
    "*И. В. Щуров, НИУ ВШЭ*\n",
    "\n",
    "*Авторы задач в подборке: А. Зотов, И. Щуров.*\n",
    "\n",
    "На [странице курса](http://math-info.hse.ru/2018-19/%D0%9D%D0%B0%D1%83%D0%BA%D0%B8_%D0%BE_%D0%B4%D0%B0%D0%BD%D0%BD%D1%8B%D1%85) находятся другие материалы."
   ]
  },
  {
   "cell_type": "markdown",
   "metadata": {},
   "source": [
    "## Домашнее задание №9\n",
    "\n",
    "За разные задачи можно получить разное число баллов. Если не указано обратное, задача весит 1 балл. Максимум за ДЗ можно набрать **8 баллов**. Вы можете решить больше задач, чем требуется, чтобы потренироваться.\n",
    "\n",
    "Для предварительной проверки задания нужно сделать следующее:\n",
    "\n",
    "1. Скачать данный `ipynb`-файл на свой компьютер, открыть его в IPython Notebook/Jupyter.\n",
    "2. Запустить ячейку, в которую вы вставили код с решением.\n",
    "3. Запустить следующую ячейку (в ней содержится тест). Если запуск ячейки с тестом не приводит к появлению ошибки (assertion), значит, всё в порядке, задача решена. Если приводит к появлению ошибки, значит, тест не пройден и нужно искать ошибку.\n",
    "\n",
    "**Внимание!** Если в какой-то момент забыть ввести входные данные и перейти на следующую ячейку, есть риск, что Notebook перестанет откликаться. В этом случае надо перезапустить ядро: *Kernel → Restart*. При этом потеряются все значения переменных, но сам код останется.\n",
    "\n",
    "Чтобы сдать ДЗ, его надо загрузить в [nbgr-x](http://python.math-hse.info) в виде `ipynb`-файла. Получить `ipynb`-файл можно, выбрав в Jupyter пункт меню *File → Download as... → IPython Notebook (.ipynb)*."
   ]
  },
  {
   "cell_type": "code",
   "execution_count": 1,
   "metadata": {
    "collapsed": true
   },
   "outputs": [],
   "source": [
    "import pandas as pd #Поехали!\n",
    "import numpy as np\n",
    "import requests\n",
    "from bs4 import BeautifulSoup "
   ]
  },
  {
   "cell_type": "markdown",
   "metadata": {},
   "source": [
    "### Задача 1 (2 балла)\n",
    "С помощью [API World Bank](https://datahelpdesk.worldbank.org/knowledgebase/articles/898590-api-country-queries), напишите функцию `get_capital(country_code)`, принимающую на вход ISO 3166-1 код государства и возвращающую название его столицы (в том виде, в котором оно возвращается этим API). Если вы хотите, чтобы API использовало формат JSON, укажите словарь `{'format':'json'}` в качестве второго аргумента `requests.get`. (Вы можете использовать как JSON, так и XML-интерфейс, на ваш выбор.) Обратите внимание: код страны здесь надо передавать как часть URL.\n",
    "\n",
    "**Подсказка.** Если вы будете использовать XML-API, под некоторыми операционными системами вам может потребоваться указать кодировку `utf-8-sig`. Это можно сделать, устанавливая атрибут `encoding` у объекта, возвращаемого `requests.get` (т.е. написать что-то вроде `r.encoding = 'utf-8-sig'`)."
   ]
  },
  {
   "cell_type": "code",
   "execution_count": 2,
   "metadata": {
    "collapsed": true,
    "deletable": false,
    "nbgrader": {
     "checksum": "f536df747b8a63af5d7ee3db24f8a9b0",
     "grade_id": "pr7",
     "solution": true
    }
   },
   "outputs": [],
   "source": [
    "# YOUR CODE HERE\n",
    "def get_capital(c_c):\n",
    "    r = requests.get(\"http://api.worldbank.org/v2/country/\" + c_c)\n",
    "    r.encoding = \"utf-8-sig\"\n",
    "    return BeautifulSoup(r.text, \"xml\").capitalCity.text"
   ]
  },
  {
   "cell_type": "code",
   "execution_count": 3,
   "metadata": {
    "collapsed": true,
    "deletable": false,
    "nbgrader": {
     "checksum": "c9c7c2f9684cee4657d86a9fb5fc1438",
     "grade": true,
     "grade_id": "pr7t1",
     "locked": true,
     "points": 2,
     "solution": false
    }
   },
   "outputs": [],
   "source": [
    "assert get_capital(\"rus\") == 'Moscow'\n",
    "assert get_capital(\"usa\") == 'Washington D.C.'\n",
    "assert get_capital('bra') == 'Brasilia'\n",
    "assert get_capital('it') == 'Rome'"
   ]
  },
  {
   "cell_type": "markdown",
   "metadata": {},
   "source": [
    "### Задача 2 (2 балла)\n",
    "Написать функцию `diff_lat(place1, place2)`, которая бы с помощью [геокодера Яндекса](https://tech.yandex.ru/maps/doc/geocoder/desc/concepts/input_params-docpage/) находила координаты двух объектов, заданных строками `place1` и `place2`, и возвращала бы число с плавающее точкой, являющееся ответом на вопрос: на сколько градусов `place2` севернее, по сравнению с `place1`?"
   ]
  },
  {
   "cell_type": "code",
   "execution_count": 4,
   "metadata": {
    "collapsed": true,
    "deletable": false,
    "nbgrader": {
     "checksum": "7c5d87a7fb484e75a61a0ae651a5be02",
     "grade_id": "pr8",
     "solution": true
    }
   },
   "outputs": [],
   "source": [
    "# YOUR CODE HERE\n",
    "def diff_lat(place1, place2):\n",
    "    url = 'https://geocode-maps.yandex.ru/1.x'\n",
    "    r1 = requests.get(url, {'geocode':place1})\n",
    "    r2 = requests.get(url, {'geocode':place2})\n",
    "    location1 = float(BeautifulSoup(r1.text, \"xml\").pos.text.split()[1])\n",
    "    location2 = float(BeautifulSoup(r2.text, \"xml\").pos.text.split()[1])\n",
    "    return location2 - location1"
   ]
  },
  {
   "cell_type": "code",
   "execution_count": 5,
   "metadata": {
    "collapsed": true,
    "deletable": false,
    "nbgrader": {
     "checksum": "a48027d5c6fded692170480d58798b93",
     "grade": true,
     "grade_id": "pr8t",
     "locked": true,
     "points": 2,
     "solution": false
    }
   },
   "outputs": [],
   "source": [
    "assert abs(diff_lat(\"Москва\", \"Апатиты\") - 11.81) < 0.1\n",
    "assert abs(diff_lat(\"Шаболовка, 26\", \"Кочновский, 3\")-0.086) < 0.001\n",
    "assert abs(diff_lat(\"Краснодар\", \"Петропавловск-Камчатский\") - 8) < 0.1\n",
    "assert abs(diff_lat(\"Геленджик\", \"Саратов\") - 7) < 0.1\n",
    "assert abs(diff_lat(\"Саратов\", \"Геленджик\") + 7) < 0.1"
   ]
  },
  {
   "cell_type": "markdown",
   "metadata": {},
   "source": [
    "### Задача 3 (2 балла)\n",
    "\n",
    "Напишите функцию `check_email(email)`, которая принимает на вход адрес электронной почты и с помощью [University Domains and Names](https://github.com/Hipo/university-domains-list) API определяет, к какому университету и какой стране относится адрес. Программа должна вернуть строку формата `Affiliated with %University Name% in %Country%`, если адрес относится к какому-то университету, и `Not a university email` иначе. К примеру, для запроса `check_email(zzz@nes.ru)` программа должна вернуть строку `Affiliated with New Economic School in Russian Federation`.\n",
    "\n",
    "__Подсказка__: Вам не нужно скачивать весь двухмегабайтный json-файл с сервера. Поиск `http://universities.hipolabs.com/search` поддерживает запросы типа `domain=hse.ru`."
   ]
  },
  {
   "cell_type": "code",
   "execution_count": 6,
   "metadata": {
    "collapsed": true,
    "deletable": false,
    "nbgrader": {
     "checksum": "471da543538ef7479493a33f1d4d691c",
     "grade": false,
     "grade_id": "cell-4c6a2518ec0c7189",
     "locked": false,
     "schema_version": 1,
     "solution": true
    }
   },
   "outputs": [],
   "source": [
    "# YOUR CODE HERE\n",
    "def check_email(email):\n",
    "    web = email[email.find(\"@\")+1:]\n",
    "    r = requests.get(\"http://universities.hipolabs.com/search\", {'domain':web}).json()\n",
    "    if len(r) > 0:\n",
    "        return(\"Affiliated with \" + r[0][\"name\"] + \" in \" + r[0][\"country\"])\n",
    "    else:\n",
    "        return(\"Not a university email\")"
   ]
  },
  {
   "cell_type": "code",
   "execution_count": 7,
   "metadata": {
    "collapsed": true,
    "deletable": false,
    "nbgrader": {
     "checksum": "9114ec7f3ee485744773ae89b9df0315",
     "grade": true,
     "grade_id": "cell-ef93ce2db6927317",
     "locked": true,
     "points": 2,
     "schema_version": 1,
     "solution": false
    }
   },
   "outputs": [],
   "source": [
    "assert check_email('zzz@nes.ru') == 'Affiliated with New Economic School in Russian Federation'\n",
    "assert check_email('ischurov@hse.ru') == 'Affiliated with Higher School of Economics in Russian Federation'\n",
    "assert check_email('hrey@london.edu') == 'Not a university email'\n",
    "assert check_email('ilya@schurov.com') == 'Not a university email'\n",
    "assert check_email('somename@stanford.edu') == 'Affiliated with Stanford University in United States'\n",
    "assert check_email('somename@cuni.cz') == 'Affiliated with Charles University Prague in Czech Republic'"
   ]
  },
  {
   "cell_type": "markdown",
   "metadata": {},
   "source": [
    "### Задача 4 (2 балла)\n",
    "На сайте http://dronestre.am собираются данные об ударах дронов США. У него есть простое API, позволяющее получить информацию о каждом ударе в виде JSON-файла. Адрес для API: http://api.dronestre.am/data\n",
    "Написать функцию `strikes_per_country(year)`, принимающую на вход год в виде целого числа (например, `2015`) и возвращающую словарь, ключами которого являются страны, а значениями — число ударов в этой стране.\n",
    "\n",
    "**Подсказка 1.** API не принимает параметр *year* (и вообще никаких параметров не принимает). Вам придётся скачать все данные и вытащить из них только те записи, которые вам нужны. Дата в данных указана в виде строки в стандартном формате. Можно проверить, что строка начинается с некоторого префикса с помощью `.startswith`. Например, `\"Hello\".startswith(\"He\")` возвращает `True`.\n",
    "\n",
    "**Подсказка 2.** Попробуйте использовать `collections.Counter` (`from collections import Counter`). Почитайте в документации, что он делает.\n",
    "\n",
    "**Подсказка 3.** Для ускорения работы функции вы можете записать код, который будет запрашивать информацию с сайта, до описания функции:\n",
    "\n",
    "    # (make request)\n",
    "    # json_data = (some lines to get data)\n",
    "    def strikes_per_country(year):\n",
    "        # query json_data for data you need"
   ]
  },
  {
   "cell_type": "code",
   "execution_count": 14,
   "metadata": {
    "collapsed": true,
    "deletable": false,
    "nbgrader": {
     "checksum": "4a030358ed221e787d33caed784cc044",
     "grade_id": "pr5",
     "solution": true
    }
   },
   "outputs": [],
   "source": [
    "# YOUR CODE HERE\n",
    "from collections import Counter\n",
    "def strikes_per_country(year):\n",
    "    countries = []\n",
    "    counts = Counter()\n",
    "    r = requests.get(\"http://api.dronestre.am/data\").json()\n",
    "    for i in range(len(r[\"strike\"])):\n",
    "        if r[\"strike\"][i][\"date\"].startswith(str(year)):\n",
    "            countries.append(r[\"strike\"][i][\"country\"])\n",
    "    for k in countries:\n",
    "        counts[k] += 1\n",
    "    return counts"
   ]
  },
  {
   "cell_type": "code",
   "execution_count": 15,
   "metadata": {
    "collapsed": true,
    "deletable": false,
    "nbgrader": {
     "checksum": "21ba6a1600c6d89a3c4f2911cfae7608",
     "grade": true,
     "grade_id": "pr5t1",
     "locked": true,
     "points": 2,
     "solution": false
    }
   },
   "outputs": [],
   "source": [
    "assert strikes_per_country(2002) == {'Yemen': 1}\n",
    "assert strikes_per_country(2009) == {'Pakistan': 56}\n",
    "assert strikes_per_country(2016) == {'Pakistan': 3, 'Somalia': 5, 'Yemen': 23}"
   ]
  },
  {
   "cell_type": "markdown",
   "metadata": {},
   "source": [
    "### Задача 5 (3 балла)\n",
    "\n",
    "С помощью [API Google Books](https://developers.google.com/books/docs/v1/getting_started) можно получать информацию о различных книгах. Например, вот так можно получить данные по книге по её ISBN: https://www.googleapis.com/books/v1/volumes?q=isbn:9785699648146. Напишите функцию `book_table(isbns)`, принимающую на вход список ISBN'ов и возвращающую таблицу pandas, содержащую заглавие, авторов, язык и число страниц. Названия колонок должны соответствовать названиям полей в ответе API. Если авторов несколько, они должны быть разделены запятой и пробелом. Пример см. в тесте."
   ]
  },
  {
   "cell_type": "code",
   "execution_count": null,
   "metadata": {
    "collapsed": true,
    "deletable": false,
    "nbgrader": {
     "checksum": "20755b83f8848512e3f80072f8f1cd53",
     "grade": false,
     "grade_id": "pr_book_table",
     "locked": false,
     "solution": true
    }
   },
   "outputs": [],
   "source": [
    "# YOUR CODE HERE"
   ]
  },
  {
   "cell_type": "code",
   "execution_count": null,
   "metadata": {
    "collapsed": true,
    "deletable": false,
    "nbgrader": {
     "checksum": "4449214a4313c870e543fd847d641d5b",
     "grade": true,
     "grade_id": "pr_book_table_test",
     "locked": true,
     "points": 3,
     "solution": false
    }
   },
   "outputs": [],
   "source": [
    "obtained = book_table(['9781292153964', '9780262035613', '9785457499850'])\n",
    "expected = pd.DataFrame({'authors': {0: 'Stuart Russell, Peter Norvig',\n",
    "  1: 'Ian Goodfellow, Yoshua Bengio, Aaron Courville',\n",
    "  2: 'Рэй Брэдбери'},\n",
    " 'language': {0: 'en', 1: 'en', 2: 'ru'},\n",
    " 'pageCount': {0: 1152, 1: 800, 2: 499},\n",
    " 'title': {0: 'Artificial Intelligence',\n",
    "  1: 'Deep Learning',\n",
    "  2: 'Вино из одуванчиков'}})\n",
    "assert obtained.to_dict() == expected.to_dict()"
   ]
  }
 ],
 "metadata": {
  "kernelspec": {
   "display_name": "Python 3",
   "language": "python",
   "name": "python3"
  },
  "language_info": {
   "codemirror_mode": {
    "name": "ipython",
    "version": 3
   },
   "file_extension": ".py",
   "mimetype": "text/x-python",
   "name": "python",
   "nbconvert_exporter": "python",
   "pygments_lexer": "ipython3",
   "version": "3.6.1"
  }
 },
 "nbformat": 4,
 "nbformat_minor": 2
}
